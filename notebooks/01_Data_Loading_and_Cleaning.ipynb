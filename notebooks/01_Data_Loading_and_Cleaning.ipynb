{
 "cells": [
  {
   "cell_type": "markdown",
   "metadata": {},
   "source": [
    "# 1. Data Loading and Initial Cleaning\n",
    "\n",
    "This notebook focuses on loading the dataset, performing an initial inspection, and handling any basic cleaning tasks like data type corrections or checking for missing values."
   ]
  },
  {
   "cell_type": "markdown",
   "metadata": {},
   "source": [
    "## Load Data"
   ]
  },
  {
   "cell_type": "code",
   "execution_count": null,
   "metadata": {},
   "outputs": [],
   "source": [
    "df = pd.read_csv('Student Habits vs Academic Performance.csv')\n",
    "df.head()"
   ]
  },
  {
   "cell_type": "markdown",
   "metadata": {},
   "source": [
    "## Initial Inspection"
   ]
  },
  {
   "cell_type": "code",
   "execution_count": null,
   "metadata": {},
   "outputs": [],
   "source": [
    "df.info()"
   ]
  },
  {
   "cell_type": "markdown",
   "metadata": {},
   "source": [
    "**Observations from `.info()`:**\n",
    "*   All columns seem to have 1000 non-null entries, suggesting no missing data.\n",
    "*   Data types are mostly appropriate (object for categoricals, float/int for numericals).\n",
    "*   `student_id` is an identifier and can be set as index or dropped for most analyses."
   ]
  },
  {
   "cell_type": "code",
   "execution_count": null,
   "metadata": {},
   "outputs": [],
   "source": [
    "df.describe(include='all')"
   ]
  },
  {
   "cell_type": "markdown",
   "metadata": {},
   "source": [
    "**Observations from `.describe()`:**\n",
    "*   `age` ranges from 17 to 24.\n",
    "*   `study_hours_per_day` ranges from 0 to 8.3.\n",
    "*   `exam_score` ranges from 18.4 to 100. The mean is around 72.3, which matches the HTML's 72.5 (likely a slight difference due to the HTML using simulated data for the JS part or different rounding).\n",
    "*   Categorical columns like `gender`, `diet_quality`, `parental_education_level` show their unique values and frequencies."
   ]
  },
  {
   "cell_type": "markdown",
   "metadata": {},
   "source": [
    "## Data Cleaning / Preprocessing (Minimal for this dataset)\n",
    "\n",
    "Given the dataset appears clean, we'll mainly focus on ensuring categorical variables are explicitly typed as `category` for pandas, which can be beneficial for some plotting libraries and memory efficiency."
   ]
  },
  {
   "cell_type": "code",
   "execution_count": null,
   "metadata": {},
   "outputs": [],
   "source": [
    "# Identify categorical columns (those with dtype 'object')\n",
    "categorical_cols = df.select_dtypes(include='object').columns.tolist()\n",
    "# We can remove student_id if it's in there, as it's an identifier\n",
    "if 'student_id' in categorical_cols:\n",
    "    categorical_cols.remove('student_id')\n",
    "\n",
    "for col in categorical_cols:\n",
    "    df[col] = df[col].astype('category')\n",
    "\n",
    "# Verify changes\n",
    "df.info()"
   ]
  },
  {
   "cell_type": "markdown",
   "metadata": {},
   "source": [
    "### Define Ordinal Categories (Important for correct plotting and modeling later)\n",
    "\n",
    "Some categorical variables have an inherent order."
   ]
  },
  {
   "cell_type": "code",
   "execution_count": null,
   "metadata": {},
   "outputs": [],
   "source": [
    "from pandas.api.types import CategoricalDtype\n",
    "\n",
    "# Diet Quality\n",
    "diet_order = ['Poor', 'Fair', 'Good']\n",
    "diet_dtype = CategoricalDtype(categories=diet_order, ordered=True)\n",
    "df['diet_quality'] = df['diet_quality'].astype(diet_dtype)\n",
    "\n",
    "# Parental Education Level - This dataset's values seem to be: 'None', 'High School', 'Bachelor', 'Master'\n",
    "# We need to check actual unique values to set the order correctly.\n",
    "print(f\"Unique parental education levels: {df['parental_education_level'].unique()}\")\n",
    "\n",
    "parental_edu_order = ['None', 'High School', 'Bachelor', 'Master'] # Based on typical progression\n",
    "parental_edu_dtype = CategoricalDtype(categories=parental_edu_order, ordered=True)\n",
    "df['parental_education_level'] = df['parental_education_level'].astype(parental_edu_dtype)\n",
    "\n",
    "# Internet Quality\n",
    "print(f\"Unique internet quality levels: {df['internet_quality'].unique()}\")\n",
    "internet_order = ['Poor', 'Average', 'Good'] # Assuming this order\n",
    "internet_dtype = CategoricalDtype(categories=internet_order, ordered=True)\n",
    "df['internet_quality'] = df['internet_quality'].astype(internet_dtype)\n",
    "\n",
    "# Verify changes\n",
    "df.info()\n",
    "print(\"\\nDiet Quality Categories:\", df['diet_quality'].cat.categories)\n",
    "print(\"Parental Education Categories:\", df['parental_education_level'].cat.categories)\n",
    "print(\"Internet Quality Categories:\", df['internet_quality'].cat.categories)"
   ]
  },
  {
   "cell_type": "markdown",
   "metadata": {},
   "source": [
    "The data seems ready for exploratory analysis.\n",
    "\n",
    "We can save the processed DataFrame if we want to load this state directly in other notebooks, though for this small dataset, re-running preprocessing is fast."
   ]
  },
  {
   "cell_type": "code",
   "execution_count": null,
   "metadata": {},
   "outputs": [],
   "source": [
    "# df.to_parquet('cleaned_student_data.parquet') # Optional save"
   ]
  }
 ],
 "metadata": {
  "kernelspec": {
   "display_name": "Python 3",
   "language": "python",
   "name": "python3"
  },
  "language_info": {
   "codemirror_mode": {
    "name": "ipython",
    "version": 3
   },
   "file_extension": ".py",
   "mimetype": "text/x-python",
   "name": "python",
   "nbconvert_exporter": "python",
   "pygments_lexer": "ipython3",
   "version": "3.9.7"
  }
 },
 "nbformat": 4,
 "nbformat_minor": 2
}
