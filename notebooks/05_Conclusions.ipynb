{
 "cells": [
  {
   "cell_type": "markdown",
   "metadata": {},
   "source": [
    "# 5. Principais Descobertas, Conclusões e Próximos Passos\n",
    "\n",
    "This notebook (or Markdown document) summarizes the findings from the analysis of the synthetic \"Student Habits vs Academic Performance\" dataset."
   ]
  },
  {
   "cell_type": "markdown",
   "metadata": {},
   "source": [
    "## Sumário das Descobertas (Baseado na Análise dos Notebooks)\n",
    "\n",
    "*(This section would be filled based on the actual outputs of notebooks 02, 03, and 04. Below is a template matching the HTML)*\n",
    "\n",
    "1.  **Visão Geral e Distribuição da Nota:**\n",
    "    *   O dataset contém 1000 registros de estudantes simulados e 16 variáveis.\n",
    "    *   A média das notas (`exam_score`) é aproximadamente 72.3.\n",
    "    *   A distribuição das notas é [Descrever a forma, e.g., unimodal, ligeiramente assimétrica à esquerda/direita, etc., based on the histogram from 02_EDA].\n",
    "\n",
    "2.  **Correlações e AED Geral:**\n",
    "    *   `study_hours_per_day` (aprox. +0.85) e `attendance_percentage` (aprox. +0.69) mostraram as correlações positivas mais fortes com `exam_score`.\n",
    "    *   `mental_health_rating` (aprox. +0.66) e `sleep_hours` (aprox. +0.55) também apresentaram correlações positivas notáveis.\n",
    "    *   `social_media_hours` (aprox. -0.40) e `netflix_hours` (aprox. -0.35) mostraram correlações negativas moderadas.\n",
    "    *   As distribuições das variáveis preditoras foram exploradas, com variáveis numéricas como horas de estudo mostrando uma ampla gama, e variáveis categóricas como gênero e qualidade da dieta mostrando suas respectivas proporções.\n",
    "\n",
    "3.  **Hábitos de Estudo:**\n",
    "    *   Gráficos de dispersão confirmaram visualmente a forte tendência positiva entre horas de estudo/dia e notas, e entre frequência às aulas e notas.\n",
    "    *   O boxplot de notas por faixas de horas de estudo demonstrou que medianas e distribuições de notas aumentam consistentemente com o aumento das horas de estudo.\n",
    "\n",
    "4.  **Estilo de Vida e Bem-Estar:**\n",
    "    *   **Horas de Sono:** Observou-se uma tendência positiva entre horas de sono e notas.\n",
    "    *   **Saúde Mental:** Uma relação positiva clara foi vista entre a autoavaliação da saúde mental e o desempenho no exame.\n",
    "    *   **Qualidade da Dieta:** Estudantes com melhor qualidade de dieta tenderam a ter notas mais altas (mediana e dispersão).\n",
    "    *   **Nível Educacional dos Pais:** Houve uma tendência de notas mais altas para estudantes cujos pais tinham níveis educacionais mais elevados.\n",
    "    *   **Participação Extracurricular:** Estudantes que participam de atividades extracurriculares tenderam a apresentar notas ligeiramente melhores.\n",
    "    *   **Trabalho em Meio Período:** Estudantes com trabalho em meio período tenderam a ter notas ligeiramente mais baixas.\n",
    "\n",
    "5.  **Análise Preditiva:**\n",
    "    *   Dois modelos de regressão foram testados: Regressão Linear e Random Forest Regressor.\n",
    "    *   O Random Forest Regressor (RMSE ~6.9, R² ~0.85) superou a Regressão Linear (RMSE ~8.5, R² ~0.78) na previsão das notas no conjunto de teste.\n",
    "    *   As features mais importantes identificadas pelo Random Forest foram (em ordem aproximada, baseada na análise): `study_hours_per_day`, `attendance_percentage`, `mental_health_rating`, `sleep_hours`, `parental_education_level_Master`, `social_media_hours`, etc. (listar as principais obtidas no notebook 04)."
   ]
  },
  {
   "cell_type": "markdown",
   "metadata": {},
   "source": [
    "## Limitações\n",
    "\n",
    "*   **Natureza Sintética dos Dados:** As conclusões são específicas para este dataset simulado e servem primariamente para demonstração metodológica. Não devem ser generalizadas para populações reais sem validação com dados autênticos.\n",
    "*   **Tamanho do Dataset:** Embora 1000 observações sejam razoáveis para muitas análises, datasets maiores poderiam revelar nuances ou permitir modelagem mais complexa, especialmente para subgrupos.\n",
    "*   **Simplificações na Modelagem:** A análise preditiva foi simplificada (e.g., sem otimização extensiva de hiperparâmetros, sem exploração de interações complexas de features, ou modelos mais avançados).\n",
    "*   **Causalidade vs. Correlação:** A análise identifica associações, não necessariamente relações causais. Por exemplo, mais horas de estudo estão associadas a notas mais altas, mas outros fatores podem influenciar ambos."
   ]
  },
  {
   "cell_type": "markdown",
   "metadata": {},
   "source": [
    "## Próximos Passos Sugeridos\n",
    "\n",
    "*   **Validação com Dados Reais:** Obter e analisar dados reais de estudantes (respeitando integralmente questões éticas e de privacidade) para verificar se os padrões observados se mantêm.\n",
    "*   **Engenharia de Features:** Criar novas features a partir das existentes (e.g., ratio de horas de estudo para horas de lazer, categorias combinadas) que possam melhorar o desempenho preditivo ou fornecer novos insights.\n",
    "*   **Modelagem Avançada:** Explorar modelos preditivos mais sofisticados (e.g., Gradient Boosting, Redes Neurais) e realizar uma otimização de hiperparâmetros mais rigorosa.\n",
    "*   **Análise de Segmentos:** Investigar se as relações variam entre diferentes subgrupos de estudantes (e.g., por gênero, nível educacional dos pais).\n",
    "*   **Análise Longitudinal:** Se dados ao longo do tempo estivessem disponíveis, analisar como mudanças nos hábitos afetam o desempenho ao longo do tempo."
   ]
  },
  {
   "cell_type": "markdown",
   "metadata": {},
   "source": [
    "Este projeto serve como uma demonstração das capacidades analíticas e de comunicação de resultados em um contexto de ciência de dados, utilizando um fluxo de trabalho padrão desde a exploração até a modelagem básica."
   ]
  }
 ],
 "metadata": {
  "kernelspec": {
   "display_name": "Python 3",
   "language": "python",
   "name": "python3"
  },
  "language_info": {
   "codemirror_mode": {
    "name": "ipython",
    "version": 3
   },
   "file_extension": ".py",
   "mimetype": "text/x-python",
   "name": "python",
   "nbconvert_exporter": "python",
   "pygments_lexer": "ipython3",
   "version": "3.9.7"
  }
 },
 "nbformat": 4,
 "nbformat_minor": 2
}