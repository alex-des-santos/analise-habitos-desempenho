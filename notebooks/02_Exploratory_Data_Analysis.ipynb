{
 "cells": [
  {
   "cell_type": "markdown",
   "metadata": {},
   "source": [
    "# 2. Exploratory Data Analysis (EDA)\n",
    "\n",
    "This notebook covers the content for the \"Visão Geral\" (Overview) and \"Exploração Geral (AED)\" (General Exploration) tabs of the portfolio."
   ]
  },
  {
   "cell_type": "code",
   "execution_count": null,
   "metadata": {},
   "outputs": [],
   "source": [
    "# If we saved the cleaned data, we could load it here instead:\n",
    "# df = pd.read_parquet('cleaned_student_data.parquet')"
   ]
  },
  {
   "cell_type": "markdown",
   "metadata": {},
   "source": [
    "## Visão Geral (Overview)"
   ]
  },
  {
   "cell_type": "markdown",
   "metadata": {},
   "source": [
    "### Estatísticas Chave do Dataset"
   ]
  },
  {
   "cell_type": "code",
   "execution_count": null,
   "metadata": {},
   "outputs": [],
   "source": [
    "num_records = len(df)\n",
    "num_variables = len(df.columns)\n",
    "avg_exam_score = df['exam_score'].mean()\n",
    "\n",
    "print(f\"Registros de Estudantes: {num_records}\")\n",
    "print(f\"Variáveis Analisadas: {num_variables}\") # Includes student_id\n",
    "print(f\"Média (Simulada) de Notas: {avg_exam_score:.1f}\")"
   ]
  },
  {
   "cell_type": "markdown",
   "metadata": {},
   "source": [
    "### Distribuição das Notas dos Exames (`exam_score`)"
   ]
  },
  {
   "cell_type": "code",
   "execution_count": null,
   "metadata": {},
   "outputs": [],
   "source": [
    "plt.figure(figsize=(10, 6))\n",
    "# Using the helper function for bins to somewhat match the HTML, or use seaborn's default\n",
    "# bin_edges, bin_labels = calculate_histogram_bins_edges(df['exam_score'])\n",
    "# sns.histplot(df['exam_score'], bins=bin_edges, kde=False)\n",
    "\n",
    "# Simpler approach with seaborn, 'sqrt' rule is often a good default\n",
    "num_bins_sqrt = int(np.ceil(np.sqrt(len(df['exam_score']))))\n",
    "sns.histplot(df['exam_score'], bins=num_bins_sqrt, kde=True, color='teal', alpha=0.6)\n",
    "\n",
    "plt.title('Distribuição das Notas dos Exames (exam_score)')\n",
    "plt.xlabel('Nota do Exame')\n",
    "plt.ylabel('Número de Estudantes')\n",
    "plt.show()"
   ]
  },
  {
   "cell_type": "markdown",
   "metadata": {},
   "source": [
    "## Exploração Geral (AED)"
   ]
  },
  {
   "cell_type": "markdown",
   "metadata": {},
   "source": [
    "### Matriz de Correlação (Valores Calculados)"
   ]
  },
  {
   "cell_type": "code",
   "execution_count": null,
   "metadata": {},
   "outputs": [],
   "source": [
    "numerical_cols_for_corr = df.select_dtypes(include=np.number).columns.tolist()\n",
    "if 'student_id' in numerical_cols_for_corr: # Should not happen if student_id is object\n",
    "    numerical_cols_for_corr.remove('student_id')\n",
    "    \n",
    "correlation_matrix = df[numerical_cols_for_corr].corr()\n",
    "exam_score_corr = correlation_matrix['exam_score'].sort_values(ascending=False)\n",
    "\n",
    "print(\"Correlação das variáveis numéricas com 'exam_score':\")\n",
    "print(exam_score_corr.drop('exam_score')) # Drop self-correlation\n",
    "\n",
    "# For display similar to HTML table (using a subset of features from HTML for comparison)\n",
    "html_corr_features = [\n",
    "    'age', 'study_hours_per_day', 'social_media_hours', \n",
    "    'netflix_hours', 'attendance_percentage', 'sleep_hours', \n",
    "    'exercise_frequency', 'mental_health_rating'\n",
    "]\n",
    "print(\"\\nCalculated Correlations for features mentioned in HTML:\")\n",
    "for feature in html_corr_features:\n",
    "    if feature in exam_score_corr:\n",
    "        print(f\"{feature}: {exam_score_corr[feature]:.2f}\")\n",
    "    else:\n",
    "        print(f\"{feature}: Not directly numerical or not found\")"
   ]
  },
  {
   "cell_type": "markdown",
   "metadata": {},
   "source": [
    "*Note: The HTML shows hardcoded correlation values. The values calculated above are from the actual dataset and may differ. The HTML seems to use Pearson correlation.*"
   ]
  },
  {
   "cell_type": "markdown",
   "metadata": {},
   "source": [
    "### Distribuição de Variáveis Preditivas (Exemplos)"
   ]
  },
  {
   "cell_type": "code",
   "execution_count": null,
   "metadata": {},
   "outputs": [],
   "source": [
    "predictor_vars_to_plot = {\n",
    "    'study_hours_per_day': 'numerical',\n",
    "    'social_media_hours': 'numerical',\n",
    "    'sleep_hours': 'numerical',\n",
    "    'gender': 'categorical',\n",
    "    'diet_quality': 'categorical' # This is ordered categorical\n",
    "}\n",
    "\n",
    "for var, var_type in predictor_vars_to_plot.items():\n",
    "    plt.figure(figsize=(8, 5))\n",
    "    if var_type == 'numerical':\n",
    "        num_bins = int(np.ceil(np.sqrt(len(df[var].dropna()))))\n",
    "        sns.histplot(df[var], bins=num_bins, kde=False, color='teal', alpha=0.7)\n",
    "        plt.title(f'Distribuição de {var.replace(\"_\", \" \").title()}')\n",
    "        plt.xlabel(var.replace(\"_\", \" \").title())\n",
    "        plt.ylabel('Contagem')\n",
    "    elif var_type == 'categorical':\n",
    "        # For ordered categoricals, ensure the order is respected in the plot\n",
    "        order = None\n",
    "        if pd.api.types.is_categorical_dtype(df[var]) and df[var].cat.ordered:\n",
    "            order = df[var].cat.categories\n",
    "        sns.countplot(x=var, data=df, order=order, palette='viridis', alpha=0.8)\n",
    "        plt.title(f'Distribuição de {var.replace(\"_\", \" \").title()}')\n",
    "        plt.xlabel(var.replace(\"_\", \" \").title())\n",
    "        plt.ylabel('Contagem')\n",
    "        plt.xticks(rotation=45, ha='right')\n",
    "    plt.tight_layout()\n",
    "    plt.show()"
   ]
  }
 ],
 "metadata": {
  "kernelspec": {
   "display_name": "Python 3",
   "language": "python",
   "name": "python3"
  },
  "language_info": {
   "codemirror_mode": {
    "name": "ipython",
    "version": 3
   },
   "file_extension": ".py",
   "mimetype": "text/x-python",
   "name": "python",
   "nbconvert_exporter": "python",
   "pygments_lexer": "ipython3",
   "version": "3.9.7"
  }
 },
 "nbformat": 4,
 "nbformat_minor": 2
}
