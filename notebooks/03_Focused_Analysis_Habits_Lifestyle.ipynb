{
 "cells": [
  {
   "cell_type": "markdown",
   "metadata": {},
   "source": [
    "# 3. Focused Analysis: Study Habits & Lifestyle\n",
    "\n",
    "This notebook explores specific relationships detailed in the \"Hábitos de Estudo\" and \"Estilo de Vida\" sections of the portfolio."
   ]
  },
  {
   "cell_type": "code",
   "execution_count": null,
   "metadata": {},
   "outputs": [],
   "source": [
    "# If we saved the cleaned data, we could load it here instead:\n",
    "# df = pd.read_parquet('cleaned_student_data.parquet')"
   ]
  },
  {
   "cell_type": "markdown",
   "metadata": {},
   "source": [
    "## Análise: Hábitos de Estudo vs. Desempenho"
   ]
  },
  {
   "cell_type": "markdown",
   "metadata": {},
   "source": [
    "### Horas de Estudo/Dia vs. Nota do Exame"
   ]
  },
  {
   "cell_type": "code",
   "execution_count": null,
   "metadata": {},
   "outputs": [],
   "source": [
    "plt.figure(figsize=(10, 6))\n",
    "sns.scatterplot(x='study_hours_per_day', y='exam_score', data=df, alpha=0.6, color='teal')\n",
    "sns.regplot(x='study_hours_per_day', y='exam_score', data=df, scatter=False, color='darkred') # Add regression line\n",
    "plt.title('Horas de Estudo/Dia vs. Nota do Exame')\n",
    "plt.xlabel('Horas de Estudo por Dia')\n",
    "plt.ylabel('Nota do Exame')\n",
    "plt.show()"
   ]
  },
  {
   "cell_type": "markdown",
   "metadata": {},
   "source": [
    "### Frequência às Aulas vs. Nota do Exame"
   ]
  },
  {
   "cell_type": "code",
   "execution_count": null,
   "metadata": {},
   "outputs": [],
   "source": [
    "plt.figure(figsize=(10, 6))\n",
    "sns.scatterplot(x='attendance_percentage', y='exam_score', data=df, alpha=0.6, color='purple')\n",
    "sns.regplot(x='attendance_percentage', y='exam_score', data=df, scatter=False, color='darkred')\n",
    "plt.title('Frequência às Aulas (%) vs. Nota do Exame')\n",
    "plt.xlabel('Frequência às Aulas (%)')\n",
    "plt.ylabel('Nota do Exame')\n",
    "plt.show()"
   ]
  },
  {
   "cell_type": "markdown",
   "metadata": {},
   "source": [
    "### Desempenho por Faixas de Horas de Estudo\n",
    "\n",
    "The HTML used bins: '0-2h', '2.1-4h', '4.1-6h', '>6h'. Let's create these."
   ]
  },
  {
   "cell_type": "code",
   "execution_count": null,
   "metadata": {},
   "outputs": [],
   "source": [
    "study_bins = [0, 2, 4, 6, df['study_hours_per_day'].max() + 0.1] # +0.1 to include max value\n",
    "study_labels = ['0-2h', '2.1-4h', '4.1-6h', '>6h']\n",
    "df['study_hours_bin'] = pd.cut(df['study_hours_per_day'], \n",
    "                                bins=study_bins, \n",
    "                                labels=study_labels, \n",
    "                                right=True, # intervals are (a, b]\n",
    "                                include_lowest=True)\n",
    "\n",
    "plt.figure(figsize=(10, 6))\n",
    "sns.boxplot(x='study_hours_bin', y='exam_score', data=df, palette='viridis')\n",
    "plt.title('Desempenho por Faixas de Horas de Estudo')\n",
    "plt.xlabel('Faixa de Horas de Estudo por Dia')\n",
    "plt.ylabel('Nota do Exame')\n",
    "plt.show()\n",
    "\n",
    "# Display counts per bin for context\n",
    "print(df['study_hours_bin'].value_counts().sort_index())"
   ]
  },
  {
   "cell_type": "markdown",
   "metadata": {},
   "source": [
    "## Análise: Estilo de Vida e Bem-Estar vs. Desempenho\n",
    "\n",
    "Factors mentioned in HTML: `sleep_hours`, `mental_health_rating`, `diet_quality`, `parental_education_level`, `extracurricular_participation`, `part_time_job`."
   ]
  },
  {
   "cell_type": "code",
   "execution_count": null,
   "metadata": {},
   "outputs": [],
   "source": [
    "lifestyle_factors = {\n",
    "    'sleep_hours': 'numerical',\n",
    "    'mental_health_rating': 'numerical', # Technically ordinal, but scatter used in HTML\n",
    "    'diet_quality': 'categorical_ordered',\n",
    "    'parental_education_level': 'categorical_ordered',\n",
    "    'extracurricular_participation': 'categorical_binary',\n",
    "    'part_time_job': 'categorical_binary'\n",
    "}\n",
    "\n",
    "for factor, f_type in lifestyle_factors.items():\n",
    "    plt.figure(figsize=(10,6))\n",
    "    if f_type == 'numerical':\n",
    "        sns.scatterplot(x=factor, y='exam_score', data=df, alpha=0.5)\n",
    "        sns.regplot(x=factor, y='exam_score', data=df, scatter=False, color='darkred')\n",
    "        plt.title(f'{factor.replace(\"_\", \" \").title()} vs. Nota do Exame')\n",
    "    elif f_type.startswith('categorical'):\n",
    "        order = None\n",
    "        if df[factor].dtype.name == 'category' and df[factor].cat.ordered:\n",
    "             order = df[factor].cat.categories\n",
    "        sns.boxplot(x=factor, y='exam_score', data=df, order=order, palette='plasma')\n",
    "        plt.title(f'Nota do Exame por {factor.replace(\"_\", \" \").title()}')\n",
    "        plt.xticks(rotation=45, ha='right')\n",
    "        \n",
    "    plt.xlabel(factor.replace(\"_\", \" \").title())\n",
    "    plt.ylabel('Nota do Exame')\n",
    "    plt.tight_layout()\n",
    "    plt.show()"
   ]
  }
 ],
 "metadata": {
  "kernelspec": {
   "display_name": "Python 3",
   "language": "python",
   "name": "python3"
  },
  "language_info": {
   "codemirror_mode": {
    "name": "ipython",
    "version": 3
   },
   "file_extension": ".py",
   "mimetype": "text/x-python",
   "name": "python",
   "nbconvert_exporter": "python",
   "pygments_lexer": "ipython3",
   "version": "3.9.7"
  }
 },
 "nbformat": 4,
 "nbformat_minor": 2
}
