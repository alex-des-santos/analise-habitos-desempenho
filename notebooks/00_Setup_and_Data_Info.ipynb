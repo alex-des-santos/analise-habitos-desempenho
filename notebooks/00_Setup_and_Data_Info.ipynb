{
 "cells": [
  {
   "cell_type": "markdown",
   "metadata": {},
   "source": [
    "# 0. Setup and Data Information\n",
    "\n",
    "This notebook contains common setups, library imports, and potentially helper functions that might be used across other notebooks in this project.\n",
    "\n",
    "## Dataset Information (from HTML & Kaggle context)\n",
    "\n",
    "**Dataset:** \"Student Habits vs Academic Performance\" (Synthetic)\n",
    "**Source:** Kaggle (Simulated for demonstration)\n",
    "**Records:** 1000 students\n",
    "**Variables:** 16 (including student ID and target)\n",
    "**Target Variable:** `exam_score`\n",
    "\n",
    "### Variables:\n",
    "\n",
    "1.  `student_id`: Unique identifier for each student.\n",
    "2.  `age`: Age of the student (numeric).\n",
    "3.  `gender`: Gender of the student (categorical: Male, Female, Other).\n",
    "4.  `study_hours_per_day`: Average hours spent studying per day (numeric).\n",
    "5.  `social_media_hours`: Average hours spent on social media per day (numeric).\n",
    "6.  `netflix_hours`: Average hours spent on Netflix/streaming per day (numeric).\n",
    "7.  `part_time_job`: Whether the student has a part-time job (categorical: Yes, No).\n",
    "8.  `attendance_percentage`: Class attendance percentage (numeric).\n",
    "9.  `sleep_hours`: Average hours of sleep per night (numeric).\n",
    "10. `diet_quality`: Quality of diet (categorical: Good, Fair, Poor).\n",
    "11. `exercise_frequency`: Days of exercise per week (numeric, e.g., 0-7).\n",
    "12. `parental_education_level`: Highest education level of parents (categorical: None, High School, Bachelor, Master, etc.).\n",
    "13. `internet_quality`: Quality of internet connection (categorical: Good, Average, Poor).\n",
    "14. `mental_health_rating`: Self-rated mental health (numeric scale, e.g., 1-10).\n",
    "15. `extracurricular_participation`: Participation in extracurricular activities (categorical: Yes, No).\n",
    "16. `exam_score`: Final exam score (numeric, target variable)."
   ]
  },
  {
   "cell_type": "markdown",
   "metadata": {},
   "source": [
    "## Common Imports"
   ]
  },
  {
   "cell_type": "code",
   "execution_count": null,
   "metadata": {},
   "outputs": [],
   "source": [
    "import pandas as pd\n",
    "import numpy as np\n",
    "import matplotlib.pyplot as plt\n",
    "import seaborn as sns\n",
    "\n",
    "# Plotting defaults\n",
    "plt.style.use('seaborn-v0_8-whitegrid') # Using a seaborn style\n",
    "plt.rcParams['figure.figsize'] = (10, 6)\n",
    "plt.rcParams['font.size'] = 12\n",
    "sns.set_palette(\"viridis\") # A nice color palette"
   ]
  },
  {
   "cell_type": "markdown",
   "metadata": {},
   "source": [
    "## Helper Functions (Example)\n",
    "\n",
    "This function mimics the bin calculation from the HTML's JavaScript for histograms if needed, though seaborn/matplotlib often handle this well with `bins='auto'` or `bins='sqrt'`."
   ]
  },
  {
   "cell_type": "code",
   "execution_count": null,
   "metadata": {},
   "outputs": [],
   "source": [
    "def calculate_histogram_bins_edges(data_series, num_bins_option=None):\n",
    "    \"\"\"Calculates bin edges for a histogram, similar to Chart.js logic.\"\"\"\n",
    "    values = data_series.dropna().values\n",
    "    if len(values) == 0:\n",
    "        return [], []\n",
    "    \n",
    "    min_val = np.min(values)\n",
    "    max_val = np.max(values)\n",
    "    \n",
    "    if min_val == max_val:\n",
    "        # Handle case where all values are the same\n",
    "        return [min_val - 0.5, min_val + 0.5], [f\"{min_val:.1f}\"]\n",
    "        \n",
    "    if num_bins_option is None:\n",
    "        num_bins = int(np.ceil(np.sqrt(len(values))))\n",
    "    else:\n",
    "        num_bins = num_bins_option\n",
    "        \n",
    "    if num_bins == 0 : num_bins = 1 # Avoid division by zero for tiny datasets\n",
    "        \n",
    "    bin_edges = np.linspace(min_val, max_val, num_bins + 1)\n",
    "    \n",
    "    # Create labels like 'start-end'\n",
    "    bin_labels = []\n",
    "    for i in range(num_bins):\n",
    "        bin_labels.append(f\"{bin_edges[i]:.1f}-{bin_edges[i+1]:.1f}\")\n",
    "        \n",
    "    return bin_edges, bin_labels\n",
    "\n",
    "# Example usage (will be more relevant in EDA notebook)\n",
    "# sample_data = pd.Series(np.random.rand(100) * 100)\n",
    "# edges, labels = calculate_histogram_bins_edges(sample_data)\n",
    "# print(f\"Calculated bin edges: {edges}\")\n",
    "# print(f\"Calculated bin labels: {labels}\")"
   ]
  }
 ],
 "metadata": {
  "kernelspec": {
   "display_name": "Python 3",
   "language": "python",
   "name": "python3"
  },
  "language_info": {
   "codemirror_mode": {
    "name": "ipython",
    "version": 3
   },
   "file_extension": ".py",
   "mimetype": "text/x-python",
   "name": "python",
   "nbconvert_exporter": "python",
   "pygments_lexer": "ipython3",
   "version": "3.9.7"
  }
 },
 "nbformat": 4,
 "nbformat_minor": 2
}